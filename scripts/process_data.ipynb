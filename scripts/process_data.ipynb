{
 "cells": [
  {
   "cell_type": "code",
   "execution_count": 1,
   "metadata": {},
   "outputs": [],
   "source": [
    "import matplotlib.pyplot as plt\n",
    "import pandas as pd\n",
    "import os\n",
    "import numpy as np"
   ]
  },
  {
   "cell_type": "code",
   "execution_count": 15,
   "metadata": {},
   "outputs": [],
   "source": [
    "data_path  = r'C:\\Users\\lhauptmann\\Code\\WristPPG2\\data'\n",
    "imu_file = \"imu_004.txt\"\n",
    "ppg_file = \"ppg_004.txt\""
   ]
  },
  {
   "cell_type": "code",
   "execution_count": 32,
   "metadata": {},
   "outputs": [],
   "source": [
    "def read_txt_data(data_file, n_features = 9, columns = None):\n",
    "\n",
    "    data = open(data_file, \"r\").read()\n",
    "\n",
    "    rows = data.strip().split(\"\\n\")\n",
    "\n",
    "    def pad_to_longest(package_dict, padding_value=0):\n",
    "        longest = max([len(v) for v in package_dict.values()])\n",
    "        for k in package_dict.keys():\n",
    "            package_dict[k] += [padding_value] * (longest - len(package_dict[k]))\n",
    "        return package_dict\n",
    "\n",
    "    def update_dict(data_dict, package_dict, package_id=None):\n",
    "        \n",
    "        if package_id is not None:\n",
    "            package_dict[\"package_id\"] = [package_id] * len(package_dict[0])\n",
    "        \n",
    "        for k in package_dict.keys():\n",
    "            data_dict[k].extend(package_dict[k])\n",
    "        return data_dict\n",
    "\n",
    "\n",
    "    data_dict = {k:[] for k in range(0,n_features)}\n",
    "    data_dict[\"package_id\"] = []\n",
    "    package_dict = {k:[] for k in range(0,n_features)}\n",
    "    # Loop over each row\n",
    "    package_id = 0\n",
    "    previous_key = 100\n",
    "    start_time = 0\n",
    "    end_time = 0\n",
    "    for row in rows:\n",
    "        if row.startswith('start time'):\n",
    "            start_time = float(row.split(\":\")[-1])\n",
    "            continue\n",
    "        if row.startswith('end time'):\n",
    "            end_time = float(row.split(\":\")[-1])\n",
    "            continue\n",
    "        # Split the row by spaces and convert each entry to an integer\n",
    "        row_split = row.split(\" \")\n",
    "        key = int(row_split[0])  \n",
    "        data_values = [float(el) for el in row_split[1:] if el != \"\"]\n",
    "        if key < previous_key:\n",
    "            package_dict = pad_to_longest(package_dict)\n",
    "            data_dict = update_dict(data_dict, package_dict, package_id)\n",
    "            package_dict = {k:[] for k in range(0,n_features)}\n",
    "            package_id += 1\n",
    "        package_dict[key].extend(data_values)\n",
    "        previous_key = key\n",
    "    df_data = pd.DataFrame(data_dict)\n",
    "    if columns is not None:\n",
    "        df_data.rename(columns={i:el for i,el in enumerate(columns)}, inplace=True)\n",
    "    return df_data, start_time, end_time\n"
   ]
  },
  {
   "cell_type": "code",
   "execution_count": 33,
   "metadata": {},
   "outputs": [],
   "source": [
    "imu_columns = [\"acc_x\", \"acc_y\", \"acc_z\", \"gyro_x\", \"gyro_y\", \"gyro_z\", \"timestamp\", \"timestamp_computer\"]\n",
    "ppg_columns = [\"ppg_green_1\", \"ppg_green_2\", \"ppg_green_3\", \"ppg_green_4\", \"ppg_green_5\", \"ppg_green_6\", \"ppg_green_7\", \"ppg_green_8\",\"ppg_ir_1\", \"ppg_ir_2\",\"ppg_ir_3\", \"ppg_ir_4\",\"ppg_ir_5\", \"ppg_ir_6\",\"ppg_ir_7\", \"ppg_ir_8\", \"acc_ppg_x\", \"acc_ppg_y\", \"acc_ppg_z\"]\n",
    "df_ppg, ppg_start, ppg_end = read_txt_data(os.path.join(data_path, ppg_file), n_features=19, columns = ppg_columns)\n",
    "df_imu, imu_start, imu_end = read_txt_data(os.path.join(data_path, imu_file), n_features=8, columns = imu_columns)"
   ]
  },
  {
   "cell_type": "code",
   "execution_count": 34,
   "metadata": {},
   "outputs": [
    {
     "data": {
      "text/plain": [
       "<Axes: xlabel='timestamp'>"
      ]
     },
     "execution_count": 34,
     "metadata": {},
     "output_type": "execute_result"
    },
    {
     "data": {
      "image/png": "[encoded data removed]",
      "text/plain": [
       "<Figure size 640x480 with 1 Axes>"
      ]
     },
     "metadata": {},
     "output_type": "display_data"
    }
   ],
   "source": [
    "df_imu.plot(x=\"timestamp\", y=[\"acc_x\", \"acc_y\", \"acc_z\"])"
   ]
  },
  {
   "cell_type": "code",
   "execution_count": 43,
   "metadata": {},
   "outputs": [
    {
     "data": {
      "text/plain": [
       "(476, 479.7138133049011, 60816)"
      ]
     },
     "execution_count": 43,
     "metadata": {},
     "output_type": "execute_result"
    }
   ],
   "source": [
    "df_ppg[\"package_id\"].unique().shape[0] * 2, ppg_end - ppg_start, len(df_ppg)"
   ]
  },
  {
   "cell_type": "code",
   "execution_count": 42,
   "metadata": {},
   "outputs": [
    {
     "data": {
      "text/plain": [
       "(478, 479.7058176994324, 478.669, 478.93543999999997, 53120)"
      ]
     },
     "execution_count": 42,
     "metadata": {},
     "output_type": "execute_result"
    }
   ],
   "source": [
    "df_imu[\"package_id\"].unique().shape[0] * 2, imu_end - imu_start, (df_imu['timestamp_computer'].iloc[-1] - df_imu['timestamp_computer'].iloc[0])/1000, (df_imu['timestamp'].iloc[-1] - df_imu['timestamp'].iloc[0])/1000, len(df_imu)"
   ]
  },
  {
   "cell_type": "code",
   "execution_count": 53,
   "metadata": {},
   "outputs": [
    {
     "data": {
      "text/plain": [
       "(110.91056448025648, 126.77558642937385)"
      ]
     },
     "execution_count": 53,
     "metadata": {},
     "output_type": "execute_result"
    }
   ],
   "source": [
    "1000/df_imu[\"timestamp\"].diff().mean(),len(df_ppg)/(ppg_end - ppg_start)"
   ]
  },
  {
   "cell_type": "code",
   "execution_count": null,
   "metadata": {},
   "outputs": [],
   "source": []
  }
 ],
 "metadata": {
  "kernelspec": {
   "display_name": "ppg_stream",
   "language": "python",
   "name": "python3"
  },
  "language_info": {
   "codemirror_mode": {
    "name": "ipython",
    "version": 3
   },
   "file_extension": ".py",
   "mimetype": "text/x-python",
   "name": "python",
   "nbconvert_exporter": "python",
   "pygments_lexer": "ipython3",
   "version": "3.11.10"
  }
 },
 "nbformat": 4,
 "nbformat_minor": 2
}
