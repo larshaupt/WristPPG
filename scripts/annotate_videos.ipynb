{
 "cells": [
  {
   "cell_type": "code",
   "execution_count": 1,
   "metadata": {},
   "outputs": [
    {
     "name": "stdout",
     "output_type": "stream",
     "text": [
      "pygame 2.2.0 (SDL 2.30.10, Python 3.11.10)\n",
      "Hello from the pygame community. https://www.pygame.org/contribute.html\n"
     ]
    }
   ],
   "source": [
    "import matplotlib.pyplot as plt\n",
    "import numpy as np\n",
    "import pandas as pd\n",
    "import seaborn as sns\n",
    "import mediapipe as mp\n",
    "import cv2\n",
    "import pygame\n",
    "\n"
   ]
  },
  {
   "cell_type": "code",
   "execution_count": 13,
   "metadata": {},
   "outputs": [],
   "source": [
    "from mediapipe.framework.formats import landmark_pb2\n",
    "from mediapipe import solutions\n",
    "\n",
    "MARGIN = 10  # pixels\n",
    "FONT_SIZE = 1\n",
    "FONT_THICKNESS = 1\n",
    "HANDEDNESS_TEXT_COLOR = (88, 205, 54) # vibrant green\n",
    "\n",
    "def show_video_from_frames_pygame(frames, fps=30):\n",
    "    \"\"\"\n",
    "    Displays video frames using PyGame, overlays frame IDs, and maintains specified FPS.\n",
    "    \n",
    "    Args:\n",
    "        frames (list): List of video frames (BGR format).\n",
    "        fps (int): Frames per second for playback.\n",
    "    \n",
    "    Returns:\n",
    "        bool: True if the video plays without interruption; False if 'q' is pressed to quit.\n",
    "    \"\"\"\n",
    "    # Initialize PyGame\n",
    "    \n",
    "    if isinstance(frames[0], tuple):\n",
    "        frame_times = [frame[1] for frame in frames]\n",
    "        frames = [frame[0] for frame in frames]\n",
    "    \n",
    "    pygame.init()\n",
    "    clock = pygame.time.Clock()\n",
    "\n",
    "    # Set up the display window\n",
    "    frame_height, frame_width = frames[0].shape[:2]\n",
    "    #print(frame_height, frame_width)\n",
    "    screen = pygame.display.set_mode((frame_width, frame_height))\n",
    "    pygame.display.set_caption(\"Video Playback\")\n",
    "\n",
    "    running = True\n",
    "    for frame_id, frame in enumerate(frames):\n",
    "        \n",
    "        # Handle events (exit on quit or 'q' key)\n",
    "        for event in pygame.event.get():\n",
    "            if event.type == pygame.QUIT:\n",
    "                running = False\n",
    "            if event.type == pygame.KEYDOWN and event.key == pygame.K_q:\n",
    "                running = False\n",
    "        \n",
    "        if not running:\n",
    "            break\n",
    "\n",
    "        # Convert the frame from BGR (OpenCV format) to RGB (PyGame format)\n",
    "        #frame = cv2.cvtColor(frame, cv2.COLOR_BGR2RGB)\n",
    "\n",
    "        # Overlay the frame ID on the frame\n",
    "        text = f\"Frame: {frame_id}\"\n",
    "        font = cv2.FONT_HERSHEY_SIMPLEX\n",
    "        position = (200, 30)\n",
    "        font_scale = 1\n",
    "        font_color = (255, 255, 255)  # White\n",
    "        thickness = 2\n",
    "        line_type = cv2.LINE_AA\n",
    "        cv2.putText(frame, text, position, font, font_scale, font_color, thickness, line_type)\n",
    "\n",
    "        # Convert frame to a surface for PyGame\n",
    "        frame_surface = pygame.surfarray.make_surface(np.transpose(frame, (1,0,2)))\n",
    "\n",
    "        # Display the frame on the PyGame window\n",
    "        screen.blit(frame_surface, (0, 0))\n",
    "        pygame.display.flip()\n",
    "\n",
    "        # Wait to maintain the desired FPS\n",
    "        clock.tick(fps)\n",
    "\n",
    "    # Quit PyGame\n",
    "    pygame.quit()\n",
    "    return running\n",
    "\n",
    "def draw_landmarks_on_image(rgb_image, detection_result):\n",
    "  hand_landmarks_list = detection_result.hand_landmarks\n",
    "  handedness_list = detection_result.handedness\n",
    "  annotated_image = np.copy(rgb_image)\n",
    "\n",
    "  # Loop through the detected hands to visualize.\n",
    "  for idx in range(len(hand_landmarks_list)):\n",
    "    hand_landmarks = hand_landmarks_list[idx]\n",
    "    handedness = handedness_list[idx]\n",
    "\n",
    "    # Draw the hand landmarks.\n",
    "    hand_landmarks_proto = landmark_pb2.NormalizedLandmarkList()\n",
    "    hand_landmarks_proto.landmark.extend([\n",
    "      landmark_pb2.NormalizedLandmark(x=landmark.x, y=landmark.y, z=landmark.z) for landmark in hand_landmarks\n",
    "    ])\n",
    "    solutions.drawing_utils.draw_landmarks(\n",
    "      annotated_image,\n",
    "      hand_landmarks_proto,\n",
    "      solutions.hands.HAND_CONNECTIONS,\n",
    "      solutions.drawing_styles.get_default_hand_landmarks_style(),\n",
    "      solutions.drawing_styles.get_default_hand_connections_style())\n",
    "\n",
    "    # Get the top left corner of the detected hand's bounding box.\n",
    "    height, width, _ = annotated_image.shape\n",
    "    x_coordinates = [landmark.x for landmark in hand_landmarks]\n",
    "    y_coordinates = [landmark.y for landmark in hand_landmarks]\n",
    "    text_x = int(min(x_coordinates) * width)\n",
    "    text_y = int(min(y_coordinates) * height) - MARGIN\n",
    "\n",
    "    # Draw handedness (left or right hand) on the image.\n",
    "    cv2.putText(annotated_image, f\"{handedness[0].category_name}\",\n",
    "                (text_x, text_y), cv2.FONT_HERSHEY_DUPLEX,\n",
    "                FONT_SIZE, HANDEDNESS_TEXT_COLOR, FONT_THICKNESS, cv2.LINE_AA)\n",
    "\n",
    "  return annotated_image\n",
    "\n",
    "def load_frames_by_time_range(video_file, start_timestamp, end_timestamp, offset=0, delay_frames=0):\n",
    "    cap = cv2.VideoCapture(video_file)\n",
    "    frames = []\n",
    "    \n",
    "    timestamps_file = video_file.replace(\".avi\", \"_timestamps.txt\")\n",
    "    start_time, end_time = None, None\n",
    "    for line in open(timestamps_file, \"r\").readlines():\n",
    "        if line.startswith(\"Recording Start Time:\"):\n",
    "            start_time = float(line.split(\":\")[-1])\n",
    "        if line.startswith(\"Recording End Time:\"):\n",
    "            end_time = float(line.split(\":\")[-1])\n",
    "    \n",
    "    assert start_time is not None and end_time is not None, \"Could not read start and end time from file\"\n",
    "    \n",
    "    # Get video FPS and total number of frames\n",
    "    fps = cap.get(cv2.CAP_PROP_FPS)\n",
    "    total_frames = int(cap.get(cv2.CAP_PROP_FRAME_COUNT))\n",
    "\n",
    "    # Calculate delay time and adjust start and end timestamps\n",
    "    delay_time = delay_frames * 1 / fps  # Delay in seconds\n",
    "    start_time += delay_time\n",
    "    end_time += delay_time\n",
    "\n",
    "    # Calculate the start and end frame indices\n",
    "    start_frame = int((start_timestamp - start_time) * fps) + offset\n",
    "    end_frame = int((end_timestamp - start_time) * fps) + offset\n",
    "\n",
    "    # Ensure the frame indices are within bounds\n",
    "    start_frame = max(0, start_frame)\n",
    "    end_frame = min(total_frames, end_frame)\n",
    "\n",
    "    # Seek to the start frame\n",
    "    cap.set(cv2.CAP_PROP_POS_FRAMES, start_frame)\n",
    "\n",
    "    # Read frames sequentially\n",
    "    for frame_index in range(start_frame, end_frame + 1):\n",
    "        ret, frame = cap.read()\n",
    "        if not ret:\n",
    "            break  # Stop if we can't read the frame\n",
    "        frame = cv2.cvtColor(frame, cv2.COLOR_BGR2RGB)\n",
    "        frame_time = start_time + frame_index / fps\n",
    "        frames.append((frame, frame_time))\n",
    "    \n",
    "    cap.release()\n",
    "    return frames\n",
    "\n",
    "from scipy.spatial.transform import Rotation\n",
    "\n",
    "def normalize_hand_landmarks(landmarks):\n",
    "    \"\"\"\n",
    "    Normalizes the 3D hand landmarks by rotating them such that they are aligned.\n",
    "    \n",
    "    Parameters:\n",
    "        landmarks (numpy array): Array of shape (N, 3), where N is the number of landmarks.\n",
    "    \n",
    "    Returns:\n",
    "        normalized_landmarks (numpy array): The normalized landmarks.\n",
    "    \"\"\"\n",
    "    assert landmarks.ndim == 2\n",
    "    # 1. Compute the centroid (center) of the hand\n",
    "    centroid = np.mean(landmarks, axis=0)\n",
    "    \n",
    "    # 2. Translate landmarks so the centroid is at the origin\n",
    "    translated_landmarks = landmarks - centroid\n",
    "    \n",
    "    # 3. Define key points to compute orientation (e.g., wrist and middle finger)\n",
    "    # Assume landmarks[0] is wrist, and landmarks[9] is the tip of the middle finger.\n",
    "    wrist = translated_landmarks[0,:]\n",
    "    middle_finger_tip = translated_landmarks[9,:]\n",
    "    \n",
    "    # 4. Compute the vector representing the orientation (e.g., wrist to middle finger tip)\n",
    "    orientation_vector = middle_finger_tip - wrist\n",
    "    \n",
    "    # 5. Normalize the orientation vector to unit length\n",
    "    orientation_vector /= np.linalg.norm(orientation_vector)\n",
    "    \n",
    "    # 6. Define the target orientation (e.g., along the Z-axis)\n",
    "    target_orientation = np.array([0, 0, 1])\n",
    "    \n",
    "    # 7. Compute the rotation matrix that aligns the orientation vector with the target orientation\n",
    "    axis_of_rotation = np.cross(orientation_vector, target_orientation)\n",
    "    angle_of_rotation = np.arccos(np.dot(orientation_vector, target_orientation))\n",
    "    \n",
    "    if np.linalg.norm(axis_of_rotation) > 1e-6:  # If there's a non-zero rotation axis\n",
    "        rotation = Rotation.from_rotvec(angle_of_rotation * axis_of_rotation)\n",
    "        rotation_matrix = rotation.as_matrix()\n",
    "        \n",
    "        # 8. Apply the rotation matrix to all landmarks\n",
    "        normalized_landmarks = np.dot(translated_landmarks, rotation_matrix.T)\n",
    "    else:\n",
    "        normalized_landmarks = translated_landmarks  # No rotation needed if already aligned\n",
    "    \n",
    "    return normalized_landmarks\n",
    "\n",
    "\n",
    "def normalize_sequence_with_consistent_rotation(landmark_sequence):\n",
    "    \"\"\"\n",
    "    Normalizes a sequence of 3D hand landmarks by aligning all frames using a consistent rotation.\n",
    "    \n",
    "    Parameters:\n",
    "        landmark_sequence (numpy array): Array of shape (T, N, 3), where T is the number of frames, \n",
    "                                          N is the number of landmarks, and 3 corresponds to the (x, y, z) coordinates.\n",
    "    \n",
    "    Returns:\n",
    "        normalized_sequence (numpy array): The normalized landmarks for the entire sequence.\n",
    "    \"\"\"\n",
    "    assert landmark_sequence.ndim == 3, \"Input must be a 3D array of shape (T, N, 3)\"\n",
    "    \n",
    "    # Use the first frame as the reference for computing the rotation\n",
    "    reference_frame = landmark_sequence[0]\n",
    "    \n",
    "    # Compute the centroid of the reference frame\n",
    "    reference_centroid = np.mean(reference_frame, axis=0)\n",
    "    \n",
    "    # Translate the reference frame so its centroid is at the origin\n",
    "    reference_translated = reference_frame - reference_centroid\n",
    "    \n",
    "    # Define key points in the reference frame\n",
    "    wrist = reference_translated[0]  # Assume the first landmark is the wrist\n",
    "    middle_finger_tip = reference_translated[9]  # Assume the 10th landmark is the middle finger tip\n",
    "    \n",
    "    # Compute the orientation vector in the reference frame\n",
    "    orientation_vector = middle_finger_tip - wrist\n",
    "    orientation_vector /= np.linalg.norm(orientation_vector)  # Normalize to unit length\n",
    "    \n",
    "    # Define the target orientation (e.g., along the Z-axis)\n",
    "    target_orientation = np.array([0, 0, 1])\n",
    "    \n",
    "    # Compute the rotation matrix to align the reference orientation with the target orientation\n",
    "    axis_of_rotation = np.cross(orientation_vector, target_orientation)\n",
    "    angle_of_rotation = np.arccos(np.dot(orientation_vector, target_orientation))\n",
    "    \n",
    "    if np.linalg.norm(axis_of_rotation) > 1e-6:  # Non-zero rotation\n",
    "        rotation = Rotation.from_rotvec(angle_of_rotation * axis_of_rotation)\n",
    "        rotation_matrix = rotation.as_matrix()\n",
    "    else:\n",
    "        rotation_matrix = np.eye(3)  # Identity matrix if no rotation is needed\n",
    "    \n",
    "    # Apply the computed rotation matrix to all frames\n",
    "    normalized_sequence = []\n",
    "    for frame in landmark_sequence:\n",
    "        # Translate the current frame to the origin\n",
    "        translated_frame = frame - np.mean(frame, axis=0)\n",
    "        # Apply the same rotation matrix\n",
    "        normalized_frame = np.dot(translated_frame, rotation_matrix.T)\n",
    "        normalized_sequence.append(normalized_frame)\n",
    "    \n",
    "    return np.array(normalized_sequence)\n",
    "\n",
    "\n",
    "\n",
    "\n",
    "label_file = r\"C:\\Users\\lhauptmann\\Code\\WristPPG2\\data\\labels\\label_228.csv\"\n",
    "video_file = r\"C:\\Users\\lhauptmann\\Code\\WristPPG2\\data\\webcam_recordings\\webcam_228.avi\"\n",
    "\n",
    "label_df = pd.read_csv(label_file)\n",
    "single_gesture = label_df[label_df[\"label\"] == \"a\"].iloc[5]\n",
    "start_time = label_df[\"start_time\"].iloc[0]\n",
    "end_time = label_df[~label_df[\"label\"].isin([\"o\", \"s\"])][\"end_time\"].iloc[-1]"
   ]
  },
  {
   "cell_type": "code",
   "execution_count": 52,
   "metadata": {},
   "outputs": [],
   "source": [
    "\n",
    "def annotate_video(frames):\n",
    "    BaseOptions = mp.tasks.BaseOptions\n",
    "    HandLandmarker = mp.tasks.vision.HandLandmarker\n",
    "    HandLandmarkerOptions = mp.tasks.vision.HandLandmarkerOptions\n",
    "    VisionRunningMode = mp.tasks.vision.RunningMode\n",
    "    \n",
    "\n",
    "    # Create a hand landmarker instance with the video mode:\n",
    "    options = HandLandmarkerOptions(\n",
    "        base_options=BaseOptions(model_asset_path=r'C:\\Users\\lhauptmann\\Code\\WristPPG2\\hand_landmarker.task'),\n",
    "        running_mode=VisionRunningMode.VIDEO,\n",
    "        num_hands=2,\n",
    "        min_hand_detection_confidence = 0.3,\n",
    "        min_hand_presence_confidence = 0.3,\n",
    "        min_tracking_confidence = 0.3\n",
    "        )\n",
    "\n",
    "    results = []\n",
    "    annotated_frames = []\n",
    "    with HandLandmarker.create_from_options(options) as landmarker:\n",
    "        \n",
    "\n",
    "        for fr, frame_time in frames:\n",
    "            mp_image = mp.Image(image_format=mp.ImageFormat.SRGB, data=fr)\n",
    "\n",
    "            result = landmarker.detect_for_video(mp_image, timestamp_ms=int(frame_time*1000))\n",
    "            results.append(result)\n",
    "            annotated_image = draw_landmarks_on_image(mp_image.numpy_view(), result)\n",
    "            annotated_frames.append(annotated_image)\n",
    "    return results, annotated_frames\n",
    "\n",
    "frames = load_frames_by_time_range(video_file, start_time, end_time, offset = 0, delay_frames = 0)\n",
    "annotations, annotated_frames = annotate_video(frames)\n"
   ]
  },
  {
   "cell_type": "code",
   "execution_count": null,
   "metadata": {},
   "outputs": [],
   "source": []
  },
  {
   "cell_type": "code",
   "execution_count": 53,
   "metadata": {},
   "outputs": [
    {
     "ename": "KeyboardInterrupt",
     "evalue": "",
     "output_type": "error",
     "traceback": [
      "\u001b[1;31m---------------------------------------------------------------------------\u001b[0m",
      "\u001b[1;31mKeyboardInterrupt\u001b[0m                         Traceback (most recent call last)",
      "Cell \u001b[1;32mIn[53], line 1\u001b[0m\n\u001b[1;32m----> 1\u001b[0m \u001b[43mshow_video_from_frames_pygame\u001b[49m\u001b[43m(\u001b[49m\u001b[43mannotated_frames\u001b[49m\u001b[43m,\u001b[49m\u001b[43m \u001b[49m\u001b[43mfps\u001b[49m\u001b[38;5;241;43m=\u001b[39;49m\u001b[38;5;241;43m30\u001b[39;49m\u001b[43m)\u001b[49m\n",
      "Cell \u001b[1;32mIn[13], line 66\u001b[0m, in \u001b[0;36mshow_video_from_frames_pygame\u001b[1;34m(frames, fps)\u001b[0m\n\u001b[0;32m     64\u001b[0m \u001b[38;5;66;03m# Display the frame on the PyGame window\u001b[39;00m\n\u001b[0;32m     65\u001b[0m screen\u001b[38;5;241m.\u001b[39mblit(frame_surface, (\u001b[38;5;241m0\u001b[39m, \u001b[38;5;241m0\u001b[39m))\n\u001b[1;32m---> 66\u001b[0m \u001b[43mpygame\u001b[49m\u001b[38;5;241;43m.\u001b[39;49m\u001b[43mdisplay\u001b[49m\u001b[38;5;241;43m.\u001b[39;49m\u001b[43mflip\u001b[49m\u001b[43m(\u001b[49m\u001b[43m)\u001b[49m\n\u001b[0;32m     68\u001b[0m \u001b[38;5;66;03m# Wait to maintain the desired FPS\u001b[39;00m\n\u001b[0;32m     69\u001b[0m clock\u001b[38;5;241m.\u001b[39mtick(fps)\n",
      "\u001b[1;31mKeyboardInterrupt\u001b[0m: "
     ]
    }
   ],
   "source": [
    "show_video_from_frames_pygame(annotated_frames, fps=30)"
   ]
  },
  {
   "cell_type": "code",
   "execution_count": 54,
   "metadata": {},
   "outputs": [],
   "source": [
    "selected_labels = label_df[~label_df[\"label\"].isin([\"s\", \"pbd\", \"prr\", \"prl\", \"po\"])]\n",
    "label_times = np.array([el[1] for el in frames])\n",
    "\n",
    "\n",
    "gesture_landmarks = []\n",
    "\n",
    "for index, row in selected_labels.iterrows():\n",
    "    \n",
    "    label_start_time, label_end_time = row[\"start_time\"], row[\"end_time\"]\n",
    "    label_indices = np.searchsorted(label_times, [label_start_time, label_end_time])\n",
    "    #label_frames = annotated_frames[label_indices[0]:label_indices[1]]\n",
    "    label_landmarks = annotations[label_indices[0]:label_indices[1]]\n",
    "    \"\"\"\n",
    "    for frame in label_frames:\n",
    "        cv2.imshow(\"frame\", frame)\n",
    "        if cv2.waitKey(50) & 0xFF == ord('q'):  # Press 'q' to exit\n",
    "            break\n",
    "    \n",
    "    cv2.destroyAllWindows()\n",
    "    \"\"\"\n",
    "    \n",
    "    \n",
    "    def extract_landmarks_xyz(label_landmarks, hand_index = 0):\n",
    "        \n",
    "        landmarks = []\n",
    "        \n",
    "        for hand_landmarks in label_landmarks:\n",
    "            hand_index = None\n",
    "            for i, hand in enumerate(hand_landmarks.handedness):\n",
    "                if hand[0].category_name == \"Right\":\n",
    "                    hand_index = i\n",
    "                \n",
    "            if hand_index is None:\n",
    "                continue\n",
    "            \n",
    "            landmark_coordinates = np.array([[landmark.x, landmark.y, landmark.z] for landmark in hand_landmarks.hand_world_landmarks[hand_index]])\n",
    "            \n",
    "            landmarks.append(landmark_coordinates)\n",
    "            \n",
    "        return np.atleast_3d(np.array(landmarks))\n",
    "                \n",
    "    \n",
    "    gesture_landmark = extract_landmarks_xyz(label_landmarks)\n",
    "    if gesture_landmark.shape[0] > 1:\n",
    "        gesture_landmark = normalize_sequence_with_consistent_rotation(gesture_landmark)\n",
    "        gesture_landmark = gesture_landmark[:,:8,:] # select only certain landmarks (thumb, index)\n",
    "        gesture_landmark =  gesture_landmark.reshape(gesture_landmark.shape[0], -1)\n",
    "        \n",
    "    gesture_landmarks.append(gesture_landmark)\n",
    "    \n",
    "    \n",
    "gesture_handmarks_mask = np.array([el.shape[0] for el in gesture_landmarks]) > 1\n",
    "    \n",
    "gesture_landmarks = [el for el, mask in zip(gesture_landmarks, gesture_handmarks_mask) if mask]"
   ]
  },
  {
   "cell_type": "code",
   "execution_count": 55,
   "metadata": {},
   "outputs": [],
   "source": [
    "from dtaidistance import dtw_ndim\n",
    "\n",
    "def compute_dtw_matrix(sequences):\n",
    "    \"\"\"\n",
    "    Compute pairwise DTW distances for a set of sequences.\n",
    "    \"\"\"\n",
    "    n = len(sequences)\n",
    "    dtw_matrix = np.zeros((n, n))\n",
    "    for i in range(n):\n",
    "        for j in range(i + 1, n):\n",
    "            sequence_1, sequence_2 = sequences[i], sequences[j]\n",
    "            if sequence_1.shape[0] <= 1 or  sequence_2.shape[0] <= 1:\n",
    "                distance = np.inf  # Skip sequences with different lengths\n",
    "            else:\n",
    "                distance = dtw_ndim.distance(sequences[i], sequences[j])\n",
    "            dtw_matrix[i, j] = distance\n",
    "            dtw_matrix[j, i] = distance  # Symmetric matrix\n",
    "    return dtw_matrix\n",
    "\n",
    "\n",
    "\n",
    "dtw_distances = compute_dtw_matrix(gesture_landmarks)\n"
   ]
  },
  {
   "cell_type": "code",
   "execution_count": 56,
   "metadata": {},
   "outputs": [
    {
     "data": {
      "image/png": "[encoded data removed]",
      "text/plain": [
       "<Figure size 640x480 with 1 Axes>"
      ]
     },
     "metadata": {},
     "output_type": "display_data"
    }
   ],
   "source": [
    "from sklearn.decomposition import PCA\n",
    "import matplotlib.pyplot as plt\n",
    "from matplotlib.lines import Line2D\n",
    "\n",
    "# Prepare gesture labels and indices\n",
    "selected_gestures = selected_labels[\"label\"][gesture_handmarks_mask].tolist()\n",
    "selected_labels_dict = {label: index for index, label in enumerate(set(selected_gestures))}\n",
    "selected_labels_indices = [selected_labels_dict[label] for label in selected_gestures]\n",
    "\n",
    "# Step 4: Visualize results\n",
    "pca = PCA(n_components=2)\n",
    "reduced_features = pca.fit_transform(dtw_distances)\n",
    "\n",
    "# Create scatter plot\n",
    "scatter = plt.scatter(reduced_features[:, 0], reduced_features[:, 1], c=selected_labels_indices, cmap='tab20')\n",
    "\n",
    "# Create a legend\n",
    "legend_elements = [\n",
    "    Line2D([0], [0], marker='o', color='w', label=label, markerfacecolor=scatter.cmap(scatter.norm(index)), markersize=10)\n",
    "    for label, index in selected_labels_dict.items()\n",
    "]\n",
    "plt.legend(handles=legend_elements, title=\"Gestures\", loc='upper right')\n",
    "\n",
    "plt.title(\"DTW Clustering of Landmark Windows\")\n",
    "plt.xlabel(\"PCA Component 1\")\n",
    "plt.ylabel(\"PCA Component 2\")\n",
    "#plt.xlim(-100, 100)\n",
    "#plt.ylim(-2,2)\n",
    "plt.show()\n",
    "\n"
   ]
  },
  {
   "cell_type": "code",
   "execution_count": 66,
   "metadata": {},
   "outputs": [
    {
     "data": {
      "image/png": "[encoded data removed]",
      "text/plain": [
       "<Figure size 640x480 with 1 Axes>"
      ]
     },
     "metadata": {},
     "output_type": "display_data"
    },
    {
     "name": "stdout",
     "output_type": "stream",
     "text": [
      "Outliers for label 'a': [8]\n",
      "Outliers for label 'b': [3]\n",
      "Outliers for label 'o': [13, 29]\n",
      "Outliers for label 'pc': [7, 71]\n",
      "Outliers for label 'd': [45]\n",
      "Outliers for label 'p': [36]\n",
      "Outliers for label 'c': [55]\n",
      "Outliers for label 'sp': [9]\n"
     ]
    }
   ],
   "source": [
    "import numpy as np\n",
    "import matplotlib.pyplot as plt\n",
    "from sklearn.decomposition import PCA\n",
    "from matplotlib.lines import Line2D\n",
    "\n",
    "# Assuming you have your dtw_distances matrix (n x n) and selected_labels with labels for each sample\n",
    "\n",
    "# Step 1: Group points by their labels\n",
    "labels = selected_labels[\"label\"][gesture_handmarks_mask].tolist()\n",
    "unique_labels = set(labels)\n",
    "\n",
    "# Step 2: Prepare a dictionary to store outliers for each label\n",
    "outliers_by_label = {label: [] for label in unique_labels}\n",
    "\n",
    "# Step 3: Iterate through each label and perform outlier detection\n",
    "\n",
    "for label in unique_labels:\n",
    "    # Get indices of points belonging to the current label\n",
    "    label_indices = [i for i, lbl in enumerate(labels) if lbl == label]\n",
    "    \n",
    "    # Extract the DTW distances for points belonging to the current label\n",
    "    label_dtw_distances = dtw_distances[label_indices, :][:, label_indices]  # n x n matrix for this label\n",
    "    \n",
    "    # Step 4: Calculate the average DTW distance for each point within the label\n",
    "    average_dtw_distances = np.mean(label_dtw_distances, axis=1)  # Average distance to all other points in the label\n",
    "    \n",
    "    # Step 5: Calculate the mean and std of the average DTW distances\n",
    "    mean_distance = np.mean(average_dtw_distances)\n",
    "    std_distance = np.std(average_dtw_distances)\n",
    "    \n",
    "    # Step 6: Define a threshold for outliers (e.g., 2 std above the mean)\n",
    "    outlier_threshold = mean_distance +1.2 * std_distance\n",
    "    \n",
    "    # Step 7: Identify outliers within this label\n",
    "    outliers_in_label = [i for i, dist in zip(label_indices, average_dtw_distances) if dist > outlier_threshold]\n",
    "    \n",
    "    # Store the outliers for this label\n",
    "    outliers_by_label[label] = outliers_in_label\n",
    "\n",
    "# Step 8: Visualize the results using PCA (for dimensionality reduction)\n",
    "pca = PCA(n_components=2)\n",
    "reduced_features = pca.fit_transform(dtw_distances)  # Use DTW distance matrix for dimensionality reduction\n",
    "\n",
    "# Step 9: Plot the results\n",
    "scatter = plt.scatter(reduced_features[:, 0], reduced_features[:, 1], c=[selected_labels_dict[label] for label in labels], cmap='tab20')\n",
    "\n",
    "# Highlight outliers in red for each label\n",
    "for label, outliers in outliers_by_label.items():\n",
    "    label_indices = [i for i, lbl in enumerate(labels) if lbl == label]\n",
    "    outlier_points = reduced_features[outliers]\n",
    "    \n",
    "    # Plot outliers in red\n",
    "    plt.scatter(outlier_points[:, 0], outlier_points[:, 1], color='red', label=f'Outliers for {label}', marker='x')\n",
    "\n",
    "# Create a legend for gestures\n",
    "legend_elements = [\n",
    "    Line2D([0], [0], marker='o', color='w', label=label, markerfacecolor=scatter.cmap(scatter.norm(selected_labels_dict[label])), markersize=10)\n",
    "    for label in unique_labels\n",
    "]\n",
    "plt.legend(handles=legend_elements, title=\"Gestures\", loc='upper right')\n",
    "\n",
    "# Create a legend for outliers\n",
    "plt.legend(handles=[Line2D([0], [0], marker='x', color='w', label='Outliers', markerfacecolor='red', markersize=10)], loc='upper left')\n",
    "\n",
    "plt.title(\"Outlier Detection Using DTW Distances by Gesture Label\")\n",
    "plt.xlabel(\"PCA Component 1\")\n",
    "plt.ylabel(\"PCA Component 2\")\n",
    "plt.show()\n",
    "\n",
    "# Optionally, print outliers for each label\n",
    "for label, outliers in outliers_by_label.items():\n",
    "    print(f\"Outliers for label '{label}': {outliers}\")\n"
   ]
  },
  {
   "cell_type": "code",
   "execution_count": 67,
   "metadata": {},
   "outputs": [],
   "source": [
    "all_outliers = np.array([item for sublist in outliers_by_label.values() for item in sublist])"
   ]
  },
  {
   "cell_type": "code",
   "execution_count": 68,
   "metadata": {},
   "outputs": [
    {
     "data": {
      "text/html": [
       "<div>\n",
       "<style scoped>\n",
       "    .dataframe tbody tr th:only-of-type {\n",
       "        vertical-align: middle;\n",
       "    }\n",
       "\n",
       "    .dataframe tbody tr th {\n",
       "        vertical-align: top;\n",
       "    }\n",
       "\n",
       "    .dataframe thead th {\n",
       "        text-align: right;\n",
       "    }\n",
       "</style>\n",
       "<table border=\"1\" class=\"dataframe\">\n",
       "  <thead>\n",
       "    <tr style=\"text-align: right;\">\n",
       "      <th></th>\n",
       "      <th>start_time</th>\n",
       "      <th>end_time</th>\n",
       "      <th>label</th>\n",
       "    </tr>\n",
       "  </thead>\n",
       "  <tbody>\n",
       "    <tr>\n",
       "      <th>13</th>\n",
       "      <td>1.733297e+09</td>\n",
       "      <td>1.733297e+09</td>\n",
       "      <td>a</td>\n",
       "    </tr>\n",
       "    <tr>\n",
       "      <th>4</th>\n",
       "      <td>1.733297e+09</td>\n",
       "      <td>1.733297e+09</td>\n",
       "      <td>b</td>\n",
       "    </tr>\n",
       "    <tr>\n",
       "      <th>19</th>\n",
       "      <td>1.733297e+09</td>\n",
       "      <td>1.733297e+09</td>\n",
       "      <td>o</td>\n",
       "    </tr>\n",
       "    <tr>\n",
       "      <th>56</th>\n",
       "      <td>1.733297e+09</td>\n",
       "      <td>1.733297e+09</td>\n",
       "      <td>o</td>\n",
       "    </tr>\n",
       "    <tr>\n",
       "      <th>9</th>\n",
       "      <td>1.733297e+09</td>\n",
       "      <td>1.733297e+09</td>\n",
       "      <td>pc</td>\n",
       "    </tr>\n",
       "    <tr>\n",
       "      <th>130</th>\n",
       "      <td>1.733297e+09</td>\n",
       "      <td>1.733297e+09</td>\n",
       "      <td>pc</td>\n",
       "    </tr>\n",
       "    <tr>\n",
       "      <th>97</th>\n",
       "      <td>1.733297e+09</td>\n",
       "      <td>1.733297e+09</td>\n",
       "      <td>d</td>\n",
       "    </tr>\n",
       "    <tr>\n",
       "      <th>70</th>\n",
       "      <td>1.733297e+09</td>\n",
       "      <td>1.733297e+09</td>\n",
       "      <td>p</td>\n",
       "    </tr>\n",
       "    <tr>\n",
       "      <th>109</th>\n",
       "      <td>1.733297e+09</td>\n",
       "      <td>1.733297e+09</td>\n",
       "      <td>c</td>\n",
       "    </tr>\n",
       "    <tr>\n",
       "      <th>14</th>\n",
       "      <td>1.733297e+09</td>\n",
       "      <td>1.733297e+09</td>\n",
       "      <td>sp</td>\n",
       "    </tr>\n",
       "  </tbody>\n",
       "</table>\n",
       "</div>"
      ],
      "text/plain": [
       "       start_time      end_time label\n",
       "13   1.733297e+09  1.733297e+09     a\n",
       "4    1.733297e+09  1.733297e+09     b\n",
       "19   1.733297e+09  1.733297e+09     o\n",
       "56   1.733297e+09  1.733297e+09     o\n",
       "9    1.733297e+09  1.733297e+09    pc\n",
       "130  1.733297e+09  1.733297e+09    pc\n",
       "97   1.733297e+09  1.733297e+09     d\n",
       "70   1.733297e+09  1.733297e+09     p\n",
       "109  1.733297e+09  1.733297e+09     c\n",
       "14   1.733297e+09  1.733297e+09    sp"
      ]
     },
     "execution_count": 68,
     "metadata": {},
     "output_type": "execute_result"
    }
   ],
   "source": [
    "selected_labels[gesture_handmarks_mask].iloc[all_outliers]"
   ]
  },
  {
   "cell_type": "code",
   "execution_count": 69,
   "metadata": {},
   "outputs": [],
   "source": [
    "for outliere_index in all_outliers:\n",
    "    outlier = selected_labels[gesture_handmarks_mask].iloc[outliere_index]\n",
    "    outlier_video = load_frames_by_time_range(video_file, outlier[\"start_time\"], outlier[\"end_time\"], offset = 0, delay_frames = 0)\n",
    "\n",
    "    show_video_from_frames_pygame(outlier_video, fps=10)"
   ]
  },
  {
   "cell_type": "code",
   "execution_count": 13,
   "metadata": {},
   "outputs": [],
   "source": [
    "landmarks_ex = np.array([np.array((el.x, el.y, el.z)) for el in annotations[100].hand_world_landmarks[0]])\n",
    "\n",
    "normalized_landsmarks_ex = normalize_hand_landmarks(landmarks_ex)"
   ]
  },
  {
   "cell_type": "code",
   "execution_count": 61,
   "metadata": {},
   "outputs": [
    {
     "ename": "NameError",
     "evalue": "name 'normalized_landsmarks_ex' is not defined",
     "output_type": "error",
     "traceback": [
      "\u001b[1;31m---------------------------------------------------------------------------\u001b[0m",
      "\u001b[1;31mNameError\u001b[0m                                 Traceback (most recent call last)",
      "Cell \u001b[1;32mIn[61], line 86\u001b[0m\n\u001b[0;32m     57\u001b[0m \u001b[38;5;66;03m# Define connections between points (optional)\u001b[39;00m\n\u001b[0;32m     58\u001b[0m connections \u001b[38;5;241m=\u001b[39m [\n\u001b[0;32m     59\u001b[0m     (\u001b[38;5;241m0\u001b[39m, \u001b[38;5;241m1\u001b[39m),  \u001b[38;5;66;03m# Connection from point 0 to point 1\u001b[39;00m\n\u001b[0;32m     60\u001b[0m     (\u001b[38;5;241m1\u001b[39m, \u001b[38;5;241m2\u001b[39m),  \u001b[38;5;66;03m# Connection from point 1 to point 2\u001b[39;00m\n\u001b[1;32m   (...)\u001b[0m\n\u001b[0;32m     82\u001b[0m     (\u001b[38;5;241m13\u001b[39m, \u001b[38;5;241m17\u001b[39m),\n\u001b[0;32m     83\u001b[0m ]\n\u001b[1;32m---> 86\u001b[0m plot_3d_landmarks(\u001b[43mnormalized_landsmarks_ex\u001b[49m, connections\u001b[38;5;241m=\u001b[39mconnections)\n",
      "\u001b[1;31mNameError\u001b[0m: name 'normalized_landsmarks_ex' is not defined"
     ]
    }
   ],
   "source": [
    "import numpy as np\n",
    "import plotly.graph_objects as go\n",
    "\n",
    "def plot_3d_landmarks(landmarks, connections=None, title=\"3D Hand Landmarks\"):\n",
    "    \"\"\"\n",
    "    Creates an interactive 3D plot of hand landmarks using Plotly.\n",
    "    \n",
    "    Parameters:\n",
    "        landmarks (np.ndarray): Array of shape (N, 3), where N is the number of landmarks.\n",
    "        connections (list of tuple, optional): List of tuples representing connections between points.\n",
    "        title (str): Title of the plot.\n",
    "    \"\"\"\n",
    "    # Extract X, Y, Z coordinates\n",
    "    x, y, z = landmarks[:, 0], landmarks[:, 1], landmarks[:, 2]\n",
    "\n",
    "    # Create scatter trace for the landmarks\n",
    "    scatter_trace = go.Scatter3d(\n",
    "        x=x, y=y, z=z,\n",
    "        mode='markers',\n",
    "        marker=dict(size=5, color='blue', opacity=0.8),\n",
    "        name='Landmarks'\n",
    "    )\n",
    "\n",
    "    # Create line traces for connections (if provided)\n",
    "    line_traces = []\n",
    "    if connections:\n",
    "        for start, end in connections:\n",
    "            line_traces.append(\n",
    "                go.Scatter3d(\n",
    "                    x=[x[start], x[end]],\n",
    "                    y=[y[start], y[end]],\n",
    "                    z=[z[start], z[end]],\n",
    "                    mode='lines',\n",
    "                    line=dict(color='red', width=2),\n",
    "                    name=f'Connection {start}-{end}',\n",
    "                )\n",
    "            )\n",
    "\n",
    "    # Combine traces\n",
    "    traces = [scatter_trace] + line_traces\n",
    "\n",
    "    # Create layout\n",
    "    layout = go.Layout(\n",
    "        title=title,\n",
    "        scene=dict(\n",
    "            xaxis=dict(title='X-axis'),\n",
    "            yaxis=dict(title='Y-axis'),\n",
    "            zaxis=dict(title='Z-axis'),\n",
    "        ),\n",
    "    )\n",
    "\n",
    "    # Create figure and plot\n",
    "    fig = go.Figure(data=traces, layout=layout)\n",
    "    fig.show()\n",
    "\n",
    "\n",
    "# Define connections between points (optional)\n",
    "connections = [\n",
    "    (0, 1),  # Connection from point 0 to point 1\n",
    "    (1, 2),  # Connection from point 1 to point 2\n",
    "    (2, 3),  # Connection from point 2 to point 3\n",
    "    (2, 3),\n",
    "    (3, 4),\n",
    "    (0, 5),\n",
    "    (5, 6),\n",
    "    (6, 7),\n",
    "    (7, 8),\n",
    "    (0, 9),\n",
    "    (9, 10),\n",
    "    (10, 11),\n",
    "    (11, 12),\n",
    "    (0, 13),\n",
    "    (13, 14),\n",
    "    (14, 15),\n",
    "    (15, 16),\n",
    "    (0, 17),\n",
    "    (17, 18),\n",
    "    (18, 19),\n",
    "    (19, 20),\n",
    "    (5, 9),\n",
    "    (9, 13),\n",
    "    (13, 17),\n",
    "]\n",
    "\n",
    "    \n",
    "plot_3d_landmarks(normalized_landsmarks_ex, connections=connections)\n",
    "        "
   ]
  },
  {
   "cell_type": "code",
   "execution_count": 31,
   "metadata": {},
   "outputs": [
    {
     "data": {
      "application/vnd.plotly.v1+json": {
       "config": {
        "plotlyServerURL": "https://plot.ly"
       },
       "data": [
        {
         "marker": {
          "color": "blue",
          "opacity": 0.8,
          "size": 5
         },
         "mode": "markers",
         "name": "Landmarks",
         "type": "scatter3d",
         "x": [
          [
           -0.03995809030778223,
           0.002848290279534663,
           -0.05468299381375745
          ],
          [
           -0.041357025172401654,
           0.0031538753197218558,
           -0.05769972791228623
          ],
          [
           -0.04050884668067813,
           0.0034113080430626976,
           -0.056483512723110384
          ],
          [
           -0.040596606802001715,
           0.002881253913585458,
           -0.057749380888676635
          ],
          [
           -0.0407014631892557,
           0.0032404770180188827,
           -0.05727932258471329
          ],
          [
           -0.04069716477801607,
           0.002710808267866184,
           -0.05690644599738899
          ],
          [
           -0.040609498076190666,
           0.002984095444161497,
           -0.055665274536184334
          ],
          [
           -0.04162807422302561,
           0.0029918675012152608,
           -0.0549517418233164
          ],
          [
           -0.04035580875410527,
           0.003631607188787732,
           -0.0580954505884348
          ],
          [
           -0.04084706659340513,
           0.0029798320109836562,
           -0.05734117742995487
          ],
          [
           -0.04036050190929045,
           0.004233338129623891,
           -0.05930631758460254
          ],
          [
           -0.04049637886947706,
           0.0030930431133174147,
           -0.055009122239281734
          ],
          [
           -0.04181426168038855,
           0.003364080169126056,
           -0.05863122820989499
          ],
          [
           -0.041602389007117664,
           0.0027059644002554303,
           -0.05769524092364117
          ],
          [
           -0.04073518373596375,
           0.0020111870102278145,
           -0.05607989718808076
          ],
          [
           -0.04144519661217386,
           0.003044138441539103,
           -0.05831445765875324
          ],
          [
           -0.04127021373247195,
           0.0036590516347319336,
           -0.05676724190336166
          ],
          [
           -0.04282845009929469,
           0.006363678731060151,
           -0.060411550295264495
          ],
          [
           -0.04192304862560725,
           0.009191392548312867,
           -0.06632732177848873
          ],
          [
           -0.041442757186040416,
           0.009476382501504886,
           -0.07404475527289794
          ],
          [
           -0.04441449044356365,
           0.012408570890022796,
           -0.07719963105999662
          ],
          [
           -0.043717410949021304,
           0.011822855039047073,
           -0.0787100393638902
          ],
          [
           -0.04330323252707351,
           0.010531835746147057,
           -0.07534277538003037
          ],
          [
           -0.0430406064428555,
           0.0100990642956703,
           -0.07279262183869281
          ],
          [
           -0.041294257485503215,
           0.011194377560955617,
           -0.07263475455940001
          ],
          [
           -0.04166925838730655,
           0.012943819686755554,
           -0.07302475985241524
          ],
          [
           -0.03947234602098841,
           0.014253780387341711,
           -0.06830387214062957
          ],
          [
           -0.03890588250089742,
           0.015144464505164542,
           -0.07033432472261571
          ],
          [
           -0.04335748537888565,
           0.013781254398624813,
           -0.07750837284921999
          ],
          [
           -0.04808281515920606,
           0.010510134893372377,
           -0.07265833384935025
          ],
          [
           -0.04517107281064608,
           0.010182560522102117,
           -0.07277369449713698
          ],
          [
           -0.04460161230678076,
           0.010367003210666255,
           -0.07335894526018831
          ],
          [
           -0.04406489293938361,
           0.009601779005109485,
           -0.07273274427384942
          ],
          [
           -0.04119628130224773,
           0.010029345793473907,
           -0.07986330012056314
          ],
          [
           -0.03937482017892239,
           0.011412931196092777,
           -0.07173300092229837
          ],
          [
           -0.03663559993297848,
           0.014066554729100234,
           -0.06905846803558398
          ]
         ],
         "y": [
          [
           -0.008337815865204011,
           -0.013398212985096303,
           -0.04244429975919731
          ],
          [
           -0.009014461196514306,
           -0.013565375648989674,
           -0.04496864665480742
          ],
          [
           -0.008709559078445304,
           -0.013239457120889425,
           -0.043916202066705746
          ],
          [
           -0.008781869236595448,
           -0.013677676883803344,
           -0.04485026636377035
          ],
          [
           -0.008315388431690959,
           -0.01310843359950563,
           -0.044682562554184575
          ],
          [
           -0.00831206810333383,
           -0.014093933194531096,
           -0.0442227786761566
          ],
          [
           -0.009321191428776172,
           -0.013567607697005313,
           -0.042824952448897134
          ],
          [
           -0.009505421814527083,
           -0.013307991936448103,
           -0.0429725600470059
          ],
          [
           -0.008748522405346742,
           -0.013065548973251278,
           -0.04516731216208458
          ],
          [
           -0.008931051113378597,
           -0.013628010969593365,
           -0.04464590298882081
          ],
          [
           -0.008239681385049987,
           -0.012777700582365454,
           -0.046845195227562066
          ],
          [
           -0.008393950843508519,
           -0.01292869397225951,
           -0.04263432724504133
          ],
          [
           -0.009274551911956681,
           -0.013191412578398929,
           -0.0456497033764324
          ],
          [
           -0.009235248478453764,
           -0.01343213120976126,
           -0.04475965154802786
          ],
          [
           -0.008078014175071329,
           -0.013975707124212101,
           -0.04341926510851578
          ],
          [
           -0.00945013804337779,
           -0.013681826427541443,
           -0.04547245471979989
          ],
          [
           -0.009139576421337848,
           -0.012690948366737455,
           -0.04445221581915098
          ],
          [
           -0.009859781500991966,
           -0.011176716139893343,
           -0.04803664484210154
          ],
          [
           -0.008588284864414668,
           -0.010088162990849454,
           -0.05378438429538534
          ],
          [
           -0.01011059894640331,
           -0.00965720380932487,
           -0.05978808551276521
          ],
          [
           -0.014458118910490305,
           -0.008421007341878978,
           -0.06221619151988541
          ],
          [
           -0.01421886307839267,
           -0.008985820505744075,
           -0.06290410070183808
          ],
          [
           -0.014395288517449721,
           -0.008788070951165577,
           -0.060138671721079694
          ],
          [
           -0.014156734733979479,
           -0.008974489709460487,
           -0.058047284697716146
          ],
          [
           -0.014232559724208471,
           -0.008023928997866645,
           -0.05658398077924452
          ],
          [
           -0.01561530577593046,
           -0.006974036341607736,
           -0.05653620620151091
          ],
          [
           -0.014617053666464831,
           -0.004325093556095194,
           -0.05313362762632344
          ],
          [
           -0.013340771573546064,
           -0.004076442152346762,
           -0.05897575241864181
          ],
          [
           -0.013351592687598305,
           -0.0036725777889141616,
           -0.06761371069946448
          ],
          [
           -0.016517625517839283,
           -0.004809160408123403,
           -0.0636774166520789
          ],
          [
           -0.014751226621249105,
           -0.006693427666094763,
           -0.0628840460856914
          ],
          [
           -0.01411955268207742,
           -0.007127400956200844,
           -0.0625801933146981
          ],
          [
           -0.015436110907003284,
           -0.006904156843611497,
           -0.06192015728529372
          ],
          [
           -0.014225922399537783,
           -0.008261607806042702,
           -0.06620436969110602
          ],
          [
           -0.015518382183621829,
           -0.0074378215908766886,
           -0.058501126083030874
          ],
          [
           -0.012283292108041318,
           -0.006671874194019974,
           -0.057877580494590485
          ]
         ],
         "z": [
          [
           0.004184923381858551,
           -0.013922207949679232,
           -0.025282779784819794
          ],
          [
           0.004295736549058699,
           -0.014860313980504006,
           -0.026872748019629977
          ],
          [
           0.004005875316250024,
           -0.014338145566147148,
           -0.02656836618593864
          ],
          [
           0.0040871990312626545,
           -0.014934498944074594,
           -0.02684736022392806
          ],
          [
           0.003915268659648849,
           -0.014238619131522598,
           -0.02692468629050386
          ],
          [
           0.004343038987981829,
           -0.01485481935647576,
           -0.02644284173409961
          ],
          [
           0.0037000771740968567,
           -0.014616998298539557,
           -0.025492282427006793
          ],
          [
           0.0036609947535983485,
           -0.013900986208681283,
           -0.025567661090465512
          ],
          [
           0.004030675992015023,
           -0.014374895139382964,
           -0.02689731878333763
          ],
          [
           0.003980186748505519,
           -0.01495138738177922,
           -0.026434068380086946
          ],
          [
           0.004321887534048497,
           -0.014770099861531463,
           -0.02826133759534238
          ],
          [
           0.003889763403739691,
           -0.014124819640064654,
           -0.025000087598462933
          ],
          [
           0.0037890299564984128,
           -0.014375762343421163,
           -0.02724235654086284
          ],
          [
           0.0035314760607881666,
           -0.014186041695930131,
           -0.026616962068762635
          ],
          [
           0.0042794316295125985,
           -0.014487003298176744,
           -0.02601154975044109
          ],
          [
           0.004096011469464729,
           -0.015007935078757561,
           -0.027667084915570343
          ],
          [
           0.003793319401739054,
           -0.013830652327012567,
           -0.027381050073765945
          ],
          [
           0.004413871329200972,
           -0.015752596302940736,
           -0.030802680973181736
          ],
          [
           0.006476707528269521,
           -0.017763883403672864,
           -0.034866147317512385
          ],
          [
           0.0043012525418765135,
           -0.020492485720952636,
           -0.04177934423277394
          ],
          [
           0.0033630316219304093,
           -0.019829195684539953,
           -0.043864036151597445
          ],
          [
           0.0047736431278265256,
           -0.019570638530254515,
           -0.04550539311464152
          ],
          [
           0.004099759877020668,
           -0.0181534791267957,
           -0.043833635245209786
          ],
          [
           0.0034158047176733016,
           -0.01810948210209468,
           -0.04185807508083221
          ],
          [
           0.0014649633804560888,
           -0.01858184316789692,
           -0.041539527228666946
          ],
          [
           0.0005661010475772813,
           -0.017368529784613704,
           -0.040741976453885324
          ],
          [
           -0.002661271412027791,
           -0.011923156130247057,
           -0.03726518565316329
          ],
          [
           -0.004811346456273696,
           -0.010010934079711918,
           -0.04044875477882196
          ],
          [
           -0.0030530312113191166,
           -0.009616867701748752,
           -0.04733833697443633
          ],
          [
           -0.0024418852994300064,
           -0.008785173910506181,
           -0.04455063923337678
          ],
          [
           -0.0019775533597608925,
           -0.011415216296072412,
           -0.0427377512526288
          ],
          [
           -0.0017893488144413716,
           -0.011067328667418651,
           -0.04351555946652679
          ],
          [
           -0.0027440690859586226,
           -0.009703425527475882,
           -0.042563121760281195
          ],
          [
           -0.003991060788063477,
           -0.015221619577272626,
           -0.0445044077666991
          ],
          [
           -0.0041517409156937085,
           -0.013705788771849926,
           -0.04075942099205555
          ],
          [
           0.0001598170162995992,
           -0.013812438233402093,
           -0.04327428332135884
          ]
         ]
        },
        {
         "line": {
          "color": "red",
          "width": 2
         },
         "mode": "lines",
         "name": "Connection 0-1",
         "type": "scatter3d",
         "x": [
          [
           -0.03995809030778223,
           0.002848290279534663,
           -0.05468299381375745
          ],
          [
           -0.041357025172401654,
           0.0031538753197218558,
           -0.05769972791228623
          ]
         ],
         "y": [
          [
           -0.008337815865204011,
           -0.013398212985096303,
           -0.04244429975919731
          ],
          [
           -0.009014461196514306,
           -0.013565375648989674,
           -0.04496864665480742
          ]
         ],
         "z": [
          [
           0.004184923381858551,
           -0.013922207949679232,
           -0.025282779784819794
          ],
          [
           0.004295736549058699,
           -0.014860313980504006,
           -0.026872748019629977
          ]
         ]
        },
        {
         "line": {
          "color": "red",
          "width": 2
         },
         "mode": "lines",
         "name": "Connection 1-2",
         "type": "scatter3d",
         "x": [
          [
           -0.041357025172401654,
           0.0031538753197218558,
           -0.05769972791228623
          ],
          [
           -0.04050884668067813,
           0.0034113080430626976,
           -0.056483512723110384
          ]
         ],
         "y": [
          [
           -0.009014461196514306,
           -0.013565375648989674,
           -0.04496864665480742
          ],
          [
           -0.008709559078445304,
           -0.013239457120889425,
           -0.043916202066705746
          ]
         ],
         "z": [
          [
           0.004295736549058699,
           -0.014860313980504006,
           -0.026872748019629977
          ],
          [
           0.004005875316250024,
           -0.014338145566147148,
           -0.02656836618593864
          ]
         ]
        },
        {
         "line": {
          "color": "red",
          "width": 2
         },
         "mode": "lines",
         "name": "Connection 2-3",
         "type": "scatter3d",
         "x": [
          [
           -0.04050884668067813,
           0.0034113080430626976,
           -0.056483512723110384
          ],
          [
           -0.040596606802001715,
           0.002881253913585458,
           -0.057749380888676635
          ]
         ],
         "y": [
          [
           -0.008709559078445304,
           -0.013239457120889425,
           -0.043916202066705746
          ],
          [
           -0.008781869236595448,
           -0.013677676883803344,
           -0.04485026636377035
          ]
         ],
         "z": [
          [
           0.004005875316250024,
           -0.014338145566147148,
           -0.02656836618593864
          ],
          [
           0.0040871990312626545,
           -0.014934498944074594,
           -0.02684736022392806
          ]
         ]
        },
        {
         "line": {
          "color": "red",
          "width": 2
         },
         "mode": "lines",
         "name": "Connection 2-3",
         "type": "scatter3d",
         "x": [
          [
           -0.04050884668067813,
           0.0034113080430626976,
           -0.056483512723110384
          ],
          [
           -0.040596606802001715,
           0.002881253913585458,
           -0.057749380888676635
          ]
         ],
         "y": [
          [
           -0.008709559078445304,
           -0.013239457120889425,
           -0.043916202066705746
          ],
          [
           -0.008781869236595448,
           -0.013677676883803344,
           -0.04485026636377035
          ]
         ],
         "z": [
          [
           0.004005875316250024,
           -0.014338145566147148,
           -0.02656836618593864
          ],
          [
           0.0040871990312626545,
           -0.014934498944074594,
           -0.02684736022392806
          ]
         ]
        },
        {
         "line": {
          "color": "red",
          "width": 2
         },
         "mode": "lines",
         "name": "Connection 3-4",
         "type": "scatter3d",
         "x": [
          [
           -0.040596606802001715,
           0.002881253913585458,
           -0.057749380888676635
          ],
          [
           -0.0407014631892557,
           0.0032404770180188827,
           -0.05727932258471329
          ]
         ],
         "y": [
          [
           -0.008781869236595448,
           -0.013677676883803344,
           -0.04485026636377035
          ],
          [
           -0.008315388431690959,
           -0.01310843359950563,
           -0.044682562554184575
          ]
         ],
         "z": [
          [
           0.0040871990312626545,
           -0.014934498944074594,
           -0.02684736022392806
          ],
          [
           0.003915268659648849,
           -0.014238619131522598,
           -0.02692468629050386
          ]
         ]
        },
        {
         "line": {
          "color": "red",
          "width": 2
         },
         "mode": "lines",
         "name": "Connection 0-5",
         "type": "scatter3d",
         "x": [
          [
           -0.03995809030778223,
           0.002848290279534663,
           -0.05468299381375745
          ],
          [
           -0.04069716477801607,
           0.002710808267866184,
           -0.05690644599738899
          ]
         ],
         "y": [
          [
           -0.008337815865204011,
           -0.013398212985096303,
           -0.04244429975919731
          ],
          [
           -0.00831206810333383,
           -0.014093933194531096,
           -0.0442227786761566
          ]
         ],
         "z": [
          [
           0.004184923381858551,
           -0.013922207949679232,
           -0.025282779784819794
          ],
          [
           0.004343038987981829,
           -0.01485481935647576,
           -0.02644284173409961
          ]
         ]
        },
        {
         "line": {
          "color": "red",
          "width": 2
         },
         "mode": "lines",
         "name": "Connection 5-6",
         "type": "scatter3d",
         "x": [
          [
           -0.04069716477801607,
           0.002710808267866184,
           -0.05690644599738899
          ],
          [
           -0.040609498076190666,
           0.002984095444161497,
           -0.055665274536184334
          ]
         ],
         "y": [
          [
           -0.00831206810333383,
           -0.014093933194531096,
           -0.0442227786761566
          ],
          [
           -0.009321191428776172,
           -0.013567607697005313,
           -0.042824952448897134
          ]
         ],
         "z": [
          [
           0.004343038987981829,
           -0.01485481935647576,
           -0.02644284173409961
          ],
          [
           0.0037000771740968567,
           -0.014616998298539557,
           -0.025492282427006793
          ]
         ]
        },
        {
         "line": {
          "color": "red",
          "width": 2
         },
         "mode": "lines",
         "name": "Connection 6-7",
         "type": "scatter3d",
         "x": [
          [
           -0.040609498076190666,
           0.002984095444161497,
           -0.055665274536184334
          ],
          [
           -0.04162807422302561,
           0.0029918675012152608,
           -0.0549517418233164
          ]
         ],
         "y": [
          [
           -0.009321191428776172,
           -0.013567607697005313,
           -0.042824952448897134
          ],
          [
           -0.009505421814527083,
           -0.013307991936448103,
           -0.0429725600470059
          ]
         ],
         "z": [
          [
           0.0037000771740968567,
           -0.014616998298539557,
           -0.025492282427006793
          ],
          [
           0.0036609947535983485,
           -0.013900986208681283,
           -0.025567661090465512
          ]
         ]
        },
        {
         "line": {
          "color": "red",
          "width": 2
         },
         "mode": "lines",
         "name": "Connection 7-8",
         "type": "scatter3d",
         "x": [
          [
           -0.04162807422302561,
           0.0029918675012152608,
           -0.0549517418233164
          ],
          [
           -0.04035580875410527,
           0.003631607188787732,
           -0.0580954505884348
          ]
         ],
         "y": [
          [
           -0.009505421814527083,
           -0.013307991936448103,
           -0.0429725600470059
          ],
          [
           -0.008748522405346742,
           -0.013065548973251278,
           -0.04516731216208458
          ]
         ],
         "z": [
          [
           0.0036609947535983485,
           -0.013900986208681283,
           -0.025567661090465512
          ],
          [
           0.004030675992015023,
           -0.014374895139382964,
           -0.02689731878333763
          ]
         ]
        },
        {
         "line": {
          "color": "red",
          "width": 2
         },
         "mode": "lines",
         "name": "Connection 0-9",
         "type": "scatter3d",
         "x": [
          [
           -0.03995809030778223,
           0.002848290279534663,
           -0.05468299381375745
          ],
          [
           -0.04084706659340513,
           0.0029798320109836562,
           -0.05734117742995487
          ]
         ],
         "y": [
          [
           -0.008337815865204011,
           -0.013398212985096303,
           -0.04244429975919731
          ],
          [
           -0.008931051113378597,
           -0.013628010969593365,
           -0.04464590298882081
          ]
         ],
         "z": [
          [
           0.004184923381858551,
           -0.013922207949679232,
           -0.025282779784819794
          ],
          [
           0.003980186748505519,
           -0.01495138738177922,
           -0.026434068380086946
          ]
         ]
        },
        {
         "line": {
          "color": "red",
          "width": 2
         },
         "mode": "lines",
         "name": "Connection 9-10",
         "type": "scatter3d",
         "x": [
          [
           -0.04084706659340513,
           0.0029798320109836562,
           -0.05734117742995487
          ],
          [
           -0.04036050190929045,
           0.004233338129623891,
           -0.05930631758460254
          ]
         ],
         "y": [
          [
           -0.008931051113378597,
           -0.013628010969593365,
           -0.04464590298882081
          ],
          [
           -0.008239681385049987,
           -0.012777700582365454,
           -0.046845195227562066
          ]
         ],
         "z": [
          [
           0.003980186748505519,
           -0.01495138738177922,
           -0.026434068380086946
          ],
          [
           0.004321887534048497,
           -0.014770099861531463,
           -0.02826133759534238
          ]
         ]
        },
        {
         "line": {
          "color": "red",
          "width": 2
         },
         "mode": "lines",
         "name": "Connection 10-11",
         "type": "scatter3d",
         "x": [
          [
           -0.04036050190929045,
           0.004233338129623891,
           -0.05930631758460254
          ],
          [
           -0.04049637886947706,
           0.0030930431133174147,
           -0.055009122239281734
          ]
         ],
         "y": [
          [
           -0.008239681385049987,
           -0.012777700582365454,
           -0.046845195227562066
          ],
          [
           -0.008393950843508519,
           -0.01292869397225951,
           -0.04263432724504133
          ]
         ],
         "z": [
          [
           0.004321887534048497,
           -0.014770099861531463,
           -0.02826133759534238
          ],
          [
           0.003889763403739691,
           -0.014124819640064654,
           -0.025000087598462933
          ]
         ]
        },
        {
         "line": {
          "color": "red",
          "width": 2
         },
         "mode": "lines",
         "name": "Connection 11-12",
         "type": "scatter3d",
         "x": [
          [
           -0.04049637886947706,
           0.0030930431133174147,
           -0.055009122239281734
          ],
          [
           -0.04181426168038855,
           0.003364080169126056,
           -0.05863122820989499
          ]
         ],
         "y": [
          [
           -0.008393950843508519,
           -0.01292869397225951,
           -0.04263432724504133
          ],
          [
           -0.009274551911956681,
           -0.013191412578398929,
           -0.0456497033764324
          ]
         ],
         "z": [
          [
           0.003889763403739691,
           -0.014124819640064654,
           -0.025000087598462933
          ],
          [
           0.0037890299564984128,
           -0.014375762343421163,
           -0.02724235654086284
          ]
         ]
        },
        {
         "line": {
          "color": "red",
          "width": 2
         },
         "mode": "lines",
         "name": "Connection 0-13",
         "type": "scatter3d",
         "x": [
          [
           -0.03995809030778223,
           0.002848290279534663,
           -0.05468299381375745
          ],
          [
           -0.041602389007117664,
           0.0027059644002554303,
           -0.05769524092364117
          ]
         ],
         "y": [
          [
           -0.008337815865204011,
           -0.013398212985096303,
           -0.04244429975919731
          ],
          [
           -0.009235248478453764,
           -0.01343213120976126,
           -0.04475965154802786
          ]
         ],
         "z": [
          [
           0.004184923381858551,
           -0.013922207949679232,
           -0.025282779784819794
          ],
          [
           0.0035314760607881666,
           -0.014186041695930131,
           -0.026616962068762635
          ]
         ]
        },
        {
         "line": {
          "color": "red",
          "width": 2
         },
         "mode": "lines",
         "name": "Connection 13-14",
         "type": "scatter3d",
         "x": [
          [
           -0.041602389007117664,
           0.0027059644002554303,
           -0.05769524092364117
          ],
          [
           -0.04073518373596375,
           0.0020111870102278145,
           -0.05607989718808076
          ]
         ],
         "y": [
          [
           -0.009235248478453764,
           -0.01343213120976126,
           -0.04475965154802786
          ],
          [
           -0.008078014175071329,
           -0.013975707124212101,
           -0.04341926510851578
          ]
         ],
         "z": [
          [
           0.0035314760607881666,
           -0.014186041695930131,
           -0.026616962068762635
          ],
          [
           0.0042794316295125985,
           -0.014487003298176744,
           -0.02601154975044109
          ]
         ]
        },
        {
         "line": {
          "color": "red",
          "width": 2
         },
         "mode": "lines",
         "name": "Connection 14-15",
         "type": "scatter3d",
         "x": [
          [
           -0.04073518373596375,
           0.0020111870102278145,
           -0.05607989718808076
          ],
          [
           -0.04144519661217386,
           0.003044138441539103,
           -0.05831445765875324
          ]
         ],
         "y": [
          [
           -0.008078014175071329,
           -0.013975707124212101,
           -0.04341926510851578
          ],
          [
           -0.00945013804337779,
           -0.013681826427541443,
           -0.04547245471979989
          ]
         ],
         "z": [
          [
           0.0042794316295125985,
           -0.014487003298176744,
           -0.02601154975044109
          ],
          [
           0.004096011469464729,
           -0.015007935078757561,
           -0.027667084915570343
          ]
         ]
        },
        {
         "line": {
          "color": "red",
          "width": 2
         },
         "mode": "lines",
         "name": "Connection 15-16",
         "type": "scatter3d",
         "x": [
          [
           -0.04144519661217386,
           0.003044138441539103,
           -0.05831445765875324
          ],
          [
           -0.04127021373247195,
           0.0036590516347319336,
           -0.05676724190336166
          ]
         ],
         "y": [
          [
           -0.00945013804337779,
           -0.013681826427541443,
           -0.04547245471979989
          ],
          [
           -0.009139576421337848,
           -0.012690948366737455,
           -0.04445221581915098
          ]
         ],
         "z": [
          [
           0.004096011469464729,
           -0.015007935078757561,
           -0.027667084915570343
          ],
          [
           0.003793319401739054,
           -0.013830652327012567,
           -0.027381050073765945
          ]
         ]
        },
        {
         "line": {
          "color": "red",
          "width": 2
         },
         "mode": "lines",
         "name": "Connection 0-17",
         "type": "scatter3d",
         "x": [
          [
           -0.03995809030778223,
           0.002848290279534663,
           -0.05468299381375745
          ],
          [
           -0.04282845009929469,
           0.006363678731060151,
           -0.060411550295264495
          ]
         ],
         "y": [
          [
           -0.008337815865204011,
           -0.013398212985096303,
           -0.04244429975919731
          ],
          [
           -0.009859781500991966,
           -0.011176716139893343,
           -0.04803664484210154
          ]
         ],
         "z": [
          [
           0.004184923381858551,
           -0.013922207949679232,
           -0.025282779784819794
          ],
          [
           0.004413871329200972,
           -0.015752596302940736,
           -0.030802680973181736
          ]
         ]
        },
        {
         "line": {
          "color": "red",
          "width": 2
         },
         "mode": "lines",
         "name": "Connection 17-18",
         "type": "scatter3d",
         "x": [
          [
           -0.04282845009929469,
           0.006363678731060151,
           -0.060411550295264495
          ],
          [
           -0.04192304862560725,
           0.009191392548312867,
           -0.06632732177848873
          ]
         ],
         "y": [
          [
           -0.009859781500991966,
           -0.011176716139893343,
           -0.04803664484210154
          ],
          [
           -0.008588284864414668,
           -0.010088162990849454,
           -0.05378438429538534
          ]
         ],
         "z": [
          [
           0.004413871329200972,
           -0.015752596302940736,
           -0.030802680973181736
          ],
          [
           0.006476707528269521,
           -0.017763883403672864,
           -0.034866147317512385
          ]
         ]
        },
        {
         "line": {
          "color": "red",
          "width": 2
         },
         "mode": "lines",
         "name": "Connection 18-19",
         "type": "scatter3d",
         "x": [
          [
           -0.04192304862560725,
           0.009191392548312867,
           -0.06632732177848873
          ],
          [
           -0.041442757186040416,
           0.009476382501504886,
           -0.07404475527289794
          ]
         ],
         "y": [
          [
           -0.008588284864414668,
           -0.010088162990849454,
           -0.05378438429538534
          ],
          [
           -0.01011059894640331,
           -0.00965720380932487,
           -0.05978808551276521
          ]
         ],
         "z": [
          [
           0.006476707528269521,
           -0.017763883403672864,
           -0.034866147317512385
          ],
          [
           0.0043012525418765135,
           -0.020492485720952636,
           -0.04177934423277394
          ]
         ]
        },
        {
         "line": {
          "color": "red",
          "width": 2
         },
         "mode": "lines",
         "name": "Connection 19-20",
         "type": "scatter3d",
         "x": [
          [
           -0.041442757186040416,
           0.009476382501504886,
           -0.07404475527289794
          ],
          [
           -0.04441449044356365,
           0.012408570890022796,
           -0.07719963105999662
          ]
         ],
         "y": [
          [
           -0.01011059894640331,
           -0.00965720380932487,
           -0.05978808551276521
          ],
          [
           -0.014458118910490305,
           -0.008421007341878978,
           -0.06221619151988541
          ]
         ],
         "z": [
          [
           0.0043012525418765135,
           -0.020492485720952636,
           -0.04177934423277394
          ],
          [
           0.0033630316219304093,
           -0.019829195684539953,
           -0.043864036151597445
          ]
         ]
        },
        {
         "line": {
          "color": "red",
          "width": 2
         },
         "mode": "lines",
         "name": "Connection 5-9",
         "type": "scatter3d",
         "x": [
          [
           -0.04069716477801607,
           0.002710808267866184,
           -0.05690644599738899
          ],
          [
           -0.04084706659340513,
           0.0029798320109836562,
           -0.05734117742995487
          ]
         ],
         "y": [
          [
           -0.00831206810333383,
           -0.014093933194531096,
           -0.0442227786761566
          ],
          [
           -0.008931051113378597,
           -0.013628010969593365,
           -0.04464590298882081
          ]
         ],
         "z": [
          [
           0.004343038987981829,
           -0.01485481935647576,
           -0.02644284173409961
          ],
          [
           0.003980186748505519,
           -0.01495138738177922,
           -0.026434068380086946
          ]
         ]
        },
        {
         "line": {
          "color": "red",
          "width": 2
         },
         "mode": "lines",
         "name": "Connection 9-13",
         "type": "scatter3d",
         "x": [
          [
           -0.04084706659340513,
           0.0029798320109836562,
           -0.05734117742995487
          ],
          [
           -0.041602389007117664,
           0.0027059644002554303,
           -0.05769524092364117
          ]
         ],
         "y": [
          [
           -0.008931051113378597,
           -0.013628010969593365,
           -0.04464590298882081
          ],
          [
           -0.009235248478453764,
           -0.01343213120976126,
           -0.04475965154802786
          ]
         ],
         "z": [
          [
           0.003980186748505519,
           -0.01495138738177922,
           -0.026434068380086946
          ],
          [
           0.0035314760607881666,
           -0.014186041695930131,
           -0.026616962068762635
          ]
         ]
        },
        {
         "line": {
          "color": "red",
          "width": 2
         },
         "mode": "lines",
         "name": "Connection 13-17",
         "type": "scatter3d",
         "x": [
          [
           -0.041602389007117664,
           0.0027059644002554303,
           -0.05769524092364117
          ],
          [
           -0.04282845009929469,
           0.006363678731060151,
           -0.060411550295264495
          ]
         ],
         "y": [
          [
           -0.009235248478453764,
           -0.01343213120976126,
           -0.04475965154802786
          ],
          [
           -0.009859781500991966,
           -0.011176716139893343,
           -0.04803664484210154
          ]
         ],
         "z": [
          [
           0.0035314760607881666,
           -0.014186041695930131,
           -0.026616962068762635
          ],
          [
           0.004413871329200972,
           -0.015752596302940736,
           -0.030802680973181736
          ]
         ]
        }
       ],
       "layout": {
        "scene": {
         "xaxis": {
          "title": {
           "text": "X-axis"
          }
         },
         "yaxis": {
          "title": {
           "text": "Y-axis"
          }
         },
         "zaxis": {
          "title": {
           "text": "Z-axis"
          }
         }
        },
        "template": {
         "data": {
          "bar": [
           {
            "error_x": {
             "color": "#2a3f5f"
            },
            "error_y": {
             "color": "#2a3f5f"
            },
            "marker": {
             "line": {
              "color": "#E5ECF6",
              "width": 0.5
             },
             "pattern": {
              "fillmode": "overlay",
              "size": 10,
              "solidity": 0.2
             }
            },
            "type": "bar"
           }
          ],
          "barpolar": [
           {
            "marker": {
             "line": {
              "color": "#E5ECF6",
              "width": 0.5
             },
             "pattern": {
              "fillmode": "overlay",
              "size": 10,
              "solidity": 0.2
             }
            },
            "type": "barpolar"
           }
          ],
          "carpet": [
           {
            "aaxis": {
             "endlinecolor": "#2a3f5f",
             "gridcolor": "white",
             "linecolor": "white",
             "minorgridcolor": "white",
             "startlinecolor": "#2a3f5f"
            },
            "baxis": {
             "endlinecolor": "#2a3f5f",
             "gridcolor": "white",
             "linecolor": "white",
             "minorgridcolor": "white",
             "startlinecolor": "#2a3f5f"
            },
            "type": "carpet"
           }
          ],
          "choropleth": [
           {
            "colorbar": {
             "outlinewidth": 0,
             "ticks": ""
            },
            "type": "choropleth"
           }
          ],
          "contour": [
           {
            "colorbar": {
             "outlinewidth": 0,
             "ticks": ""
            },
            "colorscale": [
             [
              0,
              "#0d0887"
             ],
             [
              0.1111111111111111,
              "#46039f"
             ],
             [
              0.2222222222222222,
              "#7201a8"
             ],
             [
              0.3333333333333333,
              "#9c179e"
             ],
             [
              0.4444444444444444,
              "#bd3786"
             ],
             [
              0.5555555555555556,
              "#d8576b"
             ],
             [
              0.6666666666666666,
              "#ed7953"
             ],
             [
              0.7777777777777778,
              "#fb9f3a"
             ],
             [
              0.8888888888888888,
              "#fdca26"
             ],
             [
              1,
              "#f0f921"
             ]
            ],
            "type": "contour"
           }
          ],
          "contourcarpet": [
           {
            "colorbar": {
             "outlinewidth": 0,
             "ticks": ""
            },
            "type": "contourcarpet"
           }
          ],
          "heatmap": [
           {
            "colorbar": {
             "outlinewidth": 0,
             "ticks": ""
            },
            "colorscale": [
             [
              0,
              "#0d0887"
             ],
             [
              0.1111111111111111,
              "#46039f"
             ],
             [
              0.2222222222222222,
              "#7201a8"
             ],
             [
              0.3333333333333333,
              "#9c179e"
             ],
             [
              0.4444444444444444,
              "#bd3786"
             ],
             [
              0.5555555555555556,
              "#d8576b"
             ],
             [
              0.6666666666666666,
              "#ed7953"
             ],
             [
              0.7777777777777778,
              "#fb9f3a"
             ],
             [
              0.8888888888888888,
              "#fdca26"
             ],
             [
              1,
              "#f0f921"
             ]
            ],
            "type": "heatmap"
           }
          ],
          "heatmapgl": [
           {
            "colorbar": {
             "outlinewidth": 0,
             "ticks": ""
            },
            "colorscale": [
             [
              0,
              "#0d0887"
             ],
             [
              0.1111111111111111,
              "#46039f"
             ],
             [
              0.2222222222222222,
              "#7201a8"
             ],
             [
              0.3333333333333333,
              "#9c179e"
             ],
             [
              0.4444444444444444,
              "#bd3786"
             ],
             [
              0.5555555555555556,
              "#d8576b"
             ],
             [
              0.6666666666666666,
              "#ed7953"
             ],
             [
              0.7777777777777778,
              "#fb9f3a"
             ],
             [
              0.8888888888888888,
              "#fdca26"
             ],
             [
              1,
              "#f0f921"
             ]
            ],
            "type": "heatmapgl"
           }
          ],
          "histogram": [
           {
            "marker": {
             "pattern": {
              "fillmode": "overlay",
              "size": 10,
              "solidity": 0.2
             }
            },
            "type": "histogram"
           }
          ],
          "histogram2d": [
           {
            "colorbar": {
             "outlinewidth": 0,
             "ticks": ""
            },
            "colorscale": [
             [
              0,
              "#0d0887"
             ],
             [
              0.1111111111111111,
              "#46039f"
             ],
             [
              0.2222222222222222,
              "#7201a8"
             ],
             [
              0.3333333333333333,
              "#9c179e"
             ],
             [
              0.4444444444444444,
              "#bd3786"
             ],
             [
              0.5555555555555556,
              "#d8576b"
             ],
             [
              0.6666666666666666,
              "#ed7953"
             ],
             [
              0.7777777777777778,
              "#fb9f3a"
             ],
             [
              0.8888888888888888,
              "#fdca26"
             ],
             [
              1,
              "#f0f921"
             ]
            ],
            "type": "histogram2d"
           }
          ],
          "histogram2dcontour": [
           {
            "colorbar": {
             "outlinewidth": 0,
             "ticks": ""
            },
            "colorscale": [
             [
              0,
              "#0d0887"
             ],
             [
              0.1111111111111111,
              "#46039f"
             ],
             [
              0.2222222222222222,
              "#7201a8"
             ],
             [
              0.3333333333333333,
              "#9c179e"
             ],
             [
              0.4444444444444444,
              "#bd3786"
             ],
             [
              0.5555555555555556,
              "#d8576b"
             ],
             [
              0.6666666666666666,
              "#ed7953"
             ],
             [
              0.7777777777777778,
              "#fb9f3a"
             ],
             [
              0.8888888888888888,
              "#fdca26"
             ],
             [
              1,
              "#f0f921"
             ]
            ],
            "type": "histogram2dcontour"
           }
          ],
          "mesh3d": [
           {
            "colorbar": {
             "outlinewidth": 0,
             "ticks": ""
            },
            "type": "mesh3d"
           }
          ],
          "parcoords": [
           {
            "line": {
             "colorbar": {
              "outlinewidth": 0,
              "ticks": ""
             }
            },
            "type": "parcoords"
           }
          ],
          "pie": [
           {
            "automargin": true,
            "type": "pie"
           }
          ],
          "scatter": [
           {
            "fillpattern": {
             "fillmode": "overlay",
             "size": 10,
             "solidity": 0.2
            },
            "type": "scatter"
           }
          ],
          "scatter3d": [
           {
            "line": {
             "colorbar": {
              "outlinewidth": 0,
              "ticks": ""
             }
            },
            "marker": {
             "colorbar": {
              "outlinewidth": 0,
              "ticks": ""
             }
            },
            "type": "scatter3d"
           }
          ],
          "scattercarpet": [
           {
            "marker": {
             "colorbar": {
              "outlinewidth": 0,
              "ticks": ""
             }
            },
            "type": "scattercarpet"
           }
          ],
          "scattergeo": [
           {
            "marker": {
             "colorbar": {
              "outlinewidth": 0,
              "ticks": ""
             }
            },
            "type": "scattergeo"
           }
          ],
          "scattergl": [
           {
            "marker": {
             "colorbar": {
              "outlinewidth": 0,
              "ticks": ""
             }
            },
            "type": "scattergl"
           }
          ],
          "scattermapbox": [
           {
            "marker": {
             "colorbar": {
              "outlinewidth": 0,
              "ticks": ""
             }
            },
            "type": "scattermapbox"
           }
          ],
          "scatterpolar": [
           {
            "marker": {
             "colorbar": {
              "outlinewidth": 0,
              "ticks": ""
             }
            },
            "type": "scatterpolar"
           }
          ],
          "scatterpolargl": [
           {
            "marker": {
             "colorbar": {
              "outlinewidth": 0,
              "ticks": ""
             }
            },
            "type": "scatterpolargl"
           }
          ],
          "scatterternary": [
           {
            "marker": {
             "colorbar": {
              "outlinewidth": 0,
              "ticks": ""
             }
            },
            "type": "scatterternary"
           }
          ],
          "surface": [
           {
            "colorbar": {
             "outlinewidth": 0,
             "ticks": ""
            },
            "colorscale": [
             [
              0,
              "#0d0887"
             ],
             [
              0.1111111111111111,
              "#46039f"
             ],
             [
              0.2222222222222222,
              "#7201a8"
             ],
             [
              0.3333333333333333,
              "#9c179e"
             ],
             [
              0.4444444444444444,
              "#bd3786"
             ],
             [
              0.5555555555555556,
              "#d8576b"
             ],
             [
              0.6666666666666666,
              "#ed7953"
             ],
             [
              0.7777777777777778,
              "#fb9f3a"
             ],
             [
              0.8888888888888888,
              "#fdca26"
             ],
             [
              1,
              "#f0f921"
             ]
            ],
            "type": "surface"
           }
          ],
          "table": [
           {
            "cells": {
             "fill": {
              "color": "#EBF0F8"
             },
             "line": {
              "color": "white"
             }
            },
            "header": {
             "fill": {
              "color": "#C8D4E3"
             },
             "line": {
              "color": "white"
             }
            },
            "type": "table"
           }
          ]
         },
         "layout": {
          "annotationdefaults": {
           "arrowcolor": "#2a3f5f",
           "arrowhead": 0,
           "arrowwidth": 1
          },
          "autotypenumbers": "strict",
          "coloraxis": {
           "colorbar": {
            "outlinewidth": 0,
            "ticks": ""
           }
          },
          "colorscale": {
           "diverging": [
            [
             0,
             "#8e0152"
            ],
            [
             0.1,
             "#c51b7d"
            ],
            [
             0.2,
             "#de77ae"
            ],
            [
             0.3,
             "#f1b6da"
            ],
            [
             0.4,
             "#fde0ef"
            ],
            [
             0.5,
             "#f7f7f7"
            ],
            [
             0.6,
             "#e6f5d0"
            ],
            [
             0.7,
             "#b8e186"
            ],
            [
             0.8,
             "#7fbc41"
            ],
            [
             0.9,
             "#4d9221"
            ],
            [
             1,
             "#276419"
            ]
           ],
           "sequential": [
            [
             0,
             "#0d0887"
            ],
            [
             0.1111111111111111,
             "#46039f"
            ],
            [
             0.2222222222222222,
             "#7201a8"
            ],
            [
             0.3333333333333333,
             "#9c179e"
            ],
            [
             0.4444444444444444,
             "#bd3786"
            ],
            [
             0.5555555555555556,
             "#d8576b"
            ],
            [
             0.6666666666666666,
             "#ed7953"
            ],
            [
             0.7777777777777778,
             "#fb9f3a"
            ],
            [
             0.8888888888888888,
             "#fdca26"
            ],
            [
             1,
             "#f0f921"
            ]
           ],
           "sequentialminus": [
            [
             0,
             "#0d0887"
            ],
            [
             0.1111111111111111,
             "#46039f"
            ],
            [
             0.2222222222222222,
             "#7201a8"
            ],
            [
             0.3333333333333333,
             "#9c179e"
            ],
            [
             0.4444444444444444,
             "#bd3786"
            ],
            [
             0.5555555555555556,
             "#d8576b"
            ],
            [
             0.6666666666666666,
             "#ed7953"
            ],
            [
             0.7777777777777778,
             "#fb9f3a"
            ],
            [
             0.8888888888888888,
             "#fdca26"
            ],
            [
             1,
             "#f0f921"
            ]
           ]
          },
          "colorway": [
           "#636efa",
           "#EF553B",
           "#00cc96",
           "#ab63fa",
           "#FFA15A",
           "#19d3f3",
           "#FF6692",
           "#B6E880",
           "#FF97FF",
           "#FECB52"
          ],
          "font": {
           "color": "#2a3f5f"
          },
          "geo": {
           "bgcolor": "white",
           "lakecolor": "white",
           "landcolor": "#E5ECF6",
           "showlakes": true,
           "showland": true,
           "subunitcolor": "white"
          },
          "hoverlabel": {
           "align": "left"
          },
          "hovermode": "closest",
          "mapbox": {
           "style": "light"
          },
          "paper_bgcolor": "white",
          "plot_bgcolor": "#E5ECF6",
          "polar": {
           "angularaxis": {
            "gridcolor": "white",
            "linecolor": "white",
            "ticks": ""
           },
           "bgcolor": "#E5ECF6",
           "radialaxis": {
            "gridcolor": "white",
            "linecolor": "white",
            "ticks": ""
           }
          },
          "scene": {
           "xaxis": {
            "backgroundcolor": "#E5ECF6",
            "gridcolor": "white",
            "gridwidth": 2,
            "linecolor": "white",
            "showbackground": true,
            "ticks": "",
            "zerolinecolor": "white"
           },
           "yaxis": {
            "backgroundcolor": "#E5ECF6",
            "gridcolor": "white",
            "gridwidth": 2,
            "linecolor": "white",
            "showbackground": true,
            "ticks": "",
            "zerolinecolor": "white"
           },
           "zaxis": {
            "backgroundcolor": "#E5ECF6",
            "gridcolor": "white",
            "gridwidth": 2,
            "linecolor": "white",
            "showbackground": true,
            "ticks": "",
            "zerolinecolor": "white"
           }
          },
          "shapedefaults": {
           "line": {
            "color": "#2a3f5f"
           }
          },
          "ternary": {
           "aaxis": {
            "gridcolor": "white",
            "linecolor": "white",
            "ticks": ""
           },
           "baxis": {
            "gridcolor": "white",
            "linecolor": "white",
            "ticks": ""
           },
           "bgcolor": "#E5ECF6",
           "caxis": {
            "gridcolor": "white",
            "linecolor": "white",
            "ticks": ""
           }
          },
          "title": {
           "x": 0.05
          },
          "xaxis": {
           "automargin": true,
           "gridcolor": "white",
           "linecolor": "white",
           "ticks": "",
           "title": {
            "standoff": 15
           },
           "zerolinecolor": "white",
           "zerolinewidth": 2
          },
          "yaxis": {
           "automargin": true,
           "gridcolor": "white",
           "linecolor": "white",
           "ticks": "",
           "title": {
            "standoff": 15
           },
           "zerolinecolor": "white",
           "zerolinewidth": 2
          }
         }
        },
        "title": {
         "text": "3D Hand Landmarks"
        }
       }
      }
     },
     "metadata": {},
     "output_type": "display_data"
    }
   ],
   "source": [
    "plot_3d_landmarks(gesture_landmarks[0].reshape(36, -1, 3), connections=connections)"
   ]
  },
  {
   "cell_type": "code",
   "execution_count": 28,
   "metadata": {},
   "outputs": [
    {
     "data": {
      "text/plain": [
       "(36, 8, 3)"
      ]
     },
     "execution_count": 28,
     "metadata": {},
     "output_type": "execute_result"
    }
   ],
   "source": [
    "gesture_landmarks[0].reshape(36, -1, 3).shape"
   ]
  },
  {
   "cell_type": "code",
   "execution_count": null,
   "metadata": {},
   "outputs": [],
   "source": []
  }
 ],
 "metadata": {
  "kernelspec": {
   "display_name": "ppg_stream",
   "language": "python",
   "name": "python3"
  },
  "language_info": {
   "codemirror_mode": {
    "name": "ipython",
    "version": 3
   },
   "file_extension": ".py",
   "mimetype": "text/x-python",
   "name": "python",
   "nbconvert_exporter": "python",
   "pygments_lexer": "ipython3",
   "version": "3.11.10"
  }
 },
 "nbformat": 4,
 "nbformat_minor": 2
}
