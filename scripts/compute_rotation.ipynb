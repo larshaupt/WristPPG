{
 "cells": [
  {
   "cell_type": "code",
   "execution_count": 1,
   "metadata": {},
   "outputs": [],
   "source": [
    "from ahrs.filters import Madgwick\n",
    "from ahrs.common import Quaternion\n",
    "import numpy as np\n",
    "import h5py\n",
    "import os\n",
    "import matplotlib.pyplot as plt"
   ]
  },
  {
   "cell_type": "code",
   "execution_count": 2,
   "metadata": {},
   "outputs": [],
   "source": [
    "def import_hdf5_sequences(file_path,):\n",
    "    sample = {}\n",
    "    with h5py.File(file_path, 'r') as f:\n",
    "        \n",
    "        data_dict = f[\"data\"]\n",
    "        for key in data_dict:\n",
    "            sample[key] = data_dict[key][:]  \n",
    "                    \n",
    "        sample[\"participant\"] = os.path.basename(file_path).split(\"_\")[1]\n",
    "        sample[\"session\"] = os.path.basename(file_path).split(\"_\")[2].replace(\".hdf5\", \"\")\n",
    "        sample[\"label\"] = [el.split(\"_\")[0] for el in f.keys() if el != \"data\"]\n",
    "        sample[\"label_times\"] = [(f[key][\"start_time\"][()], f[key][\"end_time\"][()]) for key in f.keys() if key != \"data\"]\n",
    "        sample[\"label_indices\"] = [(f[key][\"start_index\"][()], f[key][\"end_index\"][()]) for key in f.keys() if key != \"data\"]\n",
    "        sample[\"timestamp\"] = [el.split(\"_\")[1] for el in f.keys() if el != \"data\"]\n",
    "    return sample"
   ]
  },
  {
   "cell_type": "code",
   "execution_count": 3,
   "metadata": {},
   "outputs": [],
   "source": [
    "file_path = r\"C:\\Users\\lhauptmann\\Code\\WristPPG2\\data\\dataset_corrected\\participant_caroline\\participant_caroline_1.hdf5\"\n",
    "samples = import_hdf5_sequences(file_path)"
   ]
  },
  {
   "cell_type": "code",
   "execution_count": 25,
   "metadata": {},
   "outputs": [],
   "source": [
    "madgwick = Madgwick()\n",
    "\n",
    "gyro_data = np.stack([samples[\"gyro_x\"], samples[\"gyro_y\"], samples[\"gyro_z\"]], axis=1)\n",
    "acc_data = np.stack([samples[\"acc_x\"], samples[\"acc_y\"], samples[\"acc_z\"]], axis=1)\n",
    "num_samples = gyro_data.shape[0]\n",
    "\n",
    "\n",
    "Q = np.tile([1., 0., 0., 0.], (num_samples, 1)) # Allocate for quaternions\n",
    "for t in range(1, num_samples):\n",
    "    Q[t] = madgwick.updateIMU(Q[t-1], gyr=gyro_data[t], acc=acc_data[t])"
   ]
  },
  {
   "cell_type": "code",
   "execution_count": 37,
   "metadata": {},
   "outputs": [
    {
     "data": {
      "text/plain": [
       "(array([-0.02827295, -0.87508169, -0.48314871]), 0.37594626756995103)"
      ]
     },
     "execution_count": 37,
     "metadata": {},
     "output_type": "execute_result"
    }
   ],
   "source": [
    "Quaternion(Q[10000]).to_axang()"
   ]
  },
  {
   "cell_type": "code",
   "execution_count": null,
   "metadata": {},
   "outputs": [],
   "source": []
  }
 ],
 "metadata": {
  "kernelspec": {
   "display_name": "ppg_stream2",
   "language": "python",
   "name": "python3"
  },
  "language_info": {
   "codemirror_mode": {
    "name": "ipython",
    "version": 3
   },
   "file_extension": ".py",
   "mimetype": "text/x-python",
   "name": "python",
   "nbconvert_exporter": "python",
   "pygments_lexer": "ipython3",
   "version": "3.11.10"
  }
 },
 "nbformat": 4,
 "nbformat_minor": 2
}
